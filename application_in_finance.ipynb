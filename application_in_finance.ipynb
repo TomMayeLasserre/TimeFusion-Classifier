{
 "cells": [
  {
   "cell_type": "code",
   "execution_count": null,
   "metadata": {},
   "outputs": [],
   "source": [
    "!pip install einops \n",
    "import numpy as np\n",
    "import pandas as pd\n",
    "import torch\n",
    "import torch.nn as nn\n",
    "from torch.utils.data import Dataset, DataLoader\n",
    "from sklearn.model_selection import train_test_split\n",
    "from einops import rearrange\n",
    "import warnings\n",
    "warnings.filterwarnings(\"ignore\")\n",
    "from tqdm import tqdm\n",
    "\n",
    "from utils import *\n",
    "from tft import *\n",
    "from preprocessing import *\n",
    "\n",
    "device = torch.device(\"cuda\" if torch.cuda.is_available() else \"cpu\")\n",
    "print(f\"Utilisation de {device}\")"
   ]
  },
  {
   "cell_type": "markdown",
   "metadata": {},
   "source": [
    "# Chargement des données d'entraînement + pre processing"
   ]
  },
  {
   "cell_type": "code",
   "execution_count": null,
   "metadata": {},
   "outputs": [],
   "source": [
    "X_train_path = \"/kaggle/input/dataset/X_train_N1UvY30.csv\"\n",
    "y_train_path = \"/kaggle/input/dataset/y_train_or6m3Ta.csv\"\n",
    "\n",
    "df_train = pd.read_csv(X_train_path)\n",
    "y_train = pd.read_csv(y_train_path)\n",
    "df_train = df_train.merge(y_train, on='obs_id', how='left')\n",
    "df_train = create_features(df_train)\n",
    "\n",
    "# Prétraitement train\n",
    "df_train, features, encoders, scaler, categorical_features, numerical_features = pre_processing(df_train, is_train=True)\n",
    "\n",
    "# On regroupe par obs_id et on filtre ceux qui ont bien 100 évènements\n",
    "grouped = df_train.groupby('obs_id')\n",
    "train_sequences = []\n",
    "train_labels = []\n",
    "\n",
    "for obs_id, group in tqdm(grouped):\n",
    "    if len(group) == 100:\n",
    "        train_sequences.append(group[features].values)\n",
    "        train_labels.append(group['eqt_code_cat'].iloc[0])\n",
    "\n",
    "train_sequences = np.array(train_sequences)\n",
    "train_labels = np.array(train_labels)\n",
    "\n",
    "train_indices, val_indices = train_test_split(np.arange(len(train_labels)), test_size=0.1, random_state=42, stratify=train_labels)\n",
    "\n",
    "class MyDataset(Dataset):\n",
    "    def __init__(self, X, y, indices):\n",
    "        self.X = X\n",
    "        self.y = y\n",
    "        self.indices = indices\n",
    "\n",
    "    def __len__(self):\n",
    "        return len(self.indices)\n",
    "\n",
    "    def __getitem__(self, idx):\n",
    "        i = self.indices[idx]\n",
    "        return torch.tensor(self.X[i], dtype=torch.float32), torch.tensor(self.y[i], dtype=torch.long)\n",
    "\n",
    "train_dataset = MyDataset(train_sequences, train_labels, train_indices)\n",
    "val_dataset = MyDataset(train_sequences, train_labels, val_indices)"
   ]
  },
  {
   "cell_type": "markdown",
   "metadata": {},
   "source": [
    "# Chargement des données de test + pre processing"
   ]
  },
  {
   "cell_type": "code",
   "execution_count": null,
   "metadata": {},
   "outputs": [],
   "source": [
    "X_test_path = \"/kaggle/input/dataset/X_test_m4HAPAP.csv\"\n",
    "df_test = pd.read_csv(X_test_path)\n",
    "df_test = create_features(df_test)\n",
    "df_test, features_test, _, _, _, _ = pre_processing(df_test, encoders=encoders, scaler=scaler, is_train=False)\n",
    "grouped_test = df_test.groupby('obs_id')\n",
    "\n",
    "test_sequences = []\n",
    "test_obs_ids = []\n",
    "for obs_id, group in tqdm(grouped_test):\n",
    "    if len(group) == 100:\n",
    "        test_sequences.append(group[features_test].values)\n",
    "        test_obs_ids.append(obs_id)\n",
    "\n",
    "test_sequences = np.array(test_sequences)\n",
    "\n",
    "class TestDataset(Dataset):\n",
    "    def __init__(self, X):\n",
    "        self.X = X\n",
    "\n",
    "    def __len__(self):\n",
    "        return len(self.X)\n",
    "\n",
    "    def __getitem__(self, idx):\n",
    "        return torch.tensor(self.X[idx], dtype=torch.float32)\n",
    "\n",
    "test_dataset = TestDataset(test_sequences) \n",
    "\n",
    "batch_size = 250\n",
    "train_loader = DataLoader(train_dataset, batch_size=batch_size, shuffle=True, num_workers=4)\n",
    "val_loader = DataLoader(val_dataset, batch_size=batch_size, num_workers=4)\n",
    "test_loader = DataLoader(test_dataset, batch_size=batch_size, shuffle=False, num_workers=4)"
   ]
  },
  {
   "cell_type": "markdown",
   "metadata": {},
   "source": [
    "# Chargement du modèle"
   ]
  },
  {
   "cell_type": "code",
   "execution_count": null,
   "metadata": {},
   "outputs": [],
   "source": [
    "cat_dims = [df_train[c].max()+1 for c in categorical_features]  # nombre de classes par feature cat\n",
    "embedding_size = 8  # taille arbitraire des embeddings\n",
    "\n",
    "num_numerical = len(numerical_features)\n",
    "num_classes = 24\n",
    "\n",
    "# Modèle TFTClassifier\n",
    "model = TFTClassifier(\n",
    "    cat_dims=cat_dims, \n",
    "    num_numerical=num_numerical, \n",
    "    embedding_size=8,       # taille des embeddings\n",
    "    hidden_size=600,        # dimension cachée\n",
    "    lstm_layers=3,          # plus de couches LSTM pour plus de capacité\n",
    "    dropout=0.4,            # taux de dropout\n",
    "    attn_heads=60,          # nombre de têtes d'attention\n",
    "    max_seq_len=100,        # longueur de séquence (100 évènements)\n",
    "    num_classes=num_classes\n",
    ").to(device)\n",
    "\n",
    "criterion = nn.CrossEntropyLoss()\n",
    "optimizer = torch.optim.AdamW(model.parameters(), lr=0.0003, weight_decay=4.6e-05)\n",
    "scheduler = torch.optim.lr_scheduler.ReduceLROnPlateau(optimizer, 'min', factor=0.1, patience=3)\n",
    "\n",
    "\n",
    "# Nombre de paramètres du modèle\n",
    "print('Nombre de paramètres entraînables :', sum(p.numel() for p in model.parameters() if p.requires_grad))"
   ]
  },
  {
   "cell_type": "markdown",
   "metadata": {},
   "source": [
    "# Training"
   ]
  },
  {
   "cell_type": "code",
   "execution_count": null,
   "metadata": {},
   "outputs": [],
   "source": [
    "best_val_acc = 0\n",
    "patience = 10\n",
    "counter = 0\n",
    "\n",
    "for epoch in range(21):\n",
    "    train_loss, train_acc = train_one_epoch(model, train_loader, optimizer, criterion, device)\n",
    "    val_loss, val_acc = eval_model(model, val_loader, criterion, device)\n",
    "    scheduler.step(val_loss)\n",
    "\n",
    "    print(f\"Epoch {epoch+1}: Train loss {train_loss:.4f}, Train Acc {train_acc:.4f}, Val loss {val_loss:.4f}, Val Acc {val_acc:.4f}\")\n",
    "\n",
    "    if val_acc > best_val_acc:\n",
    "        best_val_acc = val_acc\n",
    "        counter = 0\n",
    "        torch.save(model.state_dict(), \"best_model_tft.pth\")\n",
    "    else:\n",
    "        counter += 1\n",
    "        if counter > patience:\n",
    "            print(\"Early stopping!\")\n",
    "            break"
   ]
  },
  {
   "cell_type": "markdown",
   "metadata": {},
   "source": [
    "# Evaluation du modèle sur les données de test"
   ]
  },
  {
   "cell_type": "code",
   "execution_count": null,
   "metadata": {},
   "outputs": [],
   "source": [
    "model.load_state_dict(torch.load(\"best_model_tft.pth\"))\n",
    "model.eval()\n",
    "all_preds = []\n",
    "with torch.no_grad():\n",
    "    for X in test_loader:\n",
    "        X = X.to(device)\n",
    "        out = model(X)\n",
    "        preds = out.argmax(dim=1).cpu().numpy()\n",
    "        all_preds.extend(preds)\n",
    "\n",
    "result_df = pd.DataFrame({\"obs_id\": test_obs_ids, \"eqt_code_cat\": all_preds})\n",
    "result_df.to_csv(\"submission.csv\", index=False)\n",
    "print(\"Prédictions saved dans submission.csv\")"
   ]
  }
 ],
 "metadata": {
  "language_info": {
   "name": "python"
  }
 },
 "nbformat": 4,
 "nbformat_minor": 2
}
